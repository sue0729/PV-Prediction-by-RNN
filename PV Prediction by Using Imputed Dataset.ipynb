{
 "cells": [
  {
   "cell_type": "code",
   "execution_count": 1,
   "metadata": {},
   "outputs": [],
   "source": [
    "\"\"\"\" Introduction \n",
    "\n",
    "[JP]\n",
    "このプログラムは欠損データセットをi)平均値補完 ii)k-NN法 iii)ランダムフォレストiv) XGBoostを使って\n",
    "補完した疑似完全データセットを用い、RNNによりPV発電出力を予測するものです。\n",
    "\n",
    "[ENG] \n",
    "This program is made for the prediction of PV output.\n",
    "In this program,dataset imputed by \n",
    "  i)Mean Imputation \n",
    "  ii)k-NN Method \n",
    "  iii)Random Forest \n",
    "  iv)XGBoost\n",
    "is used for input data.\n",
    "\"\"\"\"\n",
    "\n",
    "\n",
    "\n",
    "####### ライブラリのインポート ######\n",
    "import tensorflow as tf\n",
    "import numpy as np\n",
    "import pandas as pd\n",
    "import math as ma\n",
    "import matplotlib.pyplot as plt\n",
    "import os\n",
    "import shutil\n",
    "\n",
    "from pathlib import Path\n",
    "from matplotlib.backends.backend_pdf import PdfPages\n",
    "from tensorflow.keras.models import Sequential\n",
    "from tensorflow.keras.layers import Dense, Activation\n",
    "from tensorflow.keras.layers import SimpleRNN\n",
    "from tensorflow.keras.optimizers import SGD\n",
    "from tensorflow.keras.optimizers import Adam\n",
    "from tensorflow.keras.callbacks import EarlyStopping\n",
    "from sklearn.metrics import mean_squared_error\n",
    "tf.get_logger().setLevel(\"ERROR\")\n",
    "\n",
    "\n",
    "###### グラフ作成 ######\n",
    "def graph(time_stamp, pred, target, Lower, Upper, name, graph_number):\n",
    "    Figure = plt.figure()\n",
    "    graph_legend  = \"Predict(\" + name + \")\"\n",
    "    plt.plot(time_stamp, pred, \"blue\")\n",
    "    plt.plot(time_stamp, target, \"red\")\n",
    "    if graph_number == 3:\n",
    "        plt.plot(time_stamp,Lower, \"green\")\n",
    "        plt.plot(time_stamp,Upper, \"green\")\n",
    "        plt.legend([\"Predict\", \"Target\", \"Prediction Interval\"]) # 凡例\n",
    "    else:\n",
    "        plt.legend([graph_legend, \"target\"]) # 凡例\n",
    "    plt.xlabel(\"time [hour]\") # 横軸\n",
    "    plt.ylabel(\"generation [kW]\") # 縦軸\n",
    "    plt.close()\n",
    "    \n",
    "    return Figure\n",
    "      \n",
    "###### RMSE ######\n",
    "def RMSE(pred, Predict, name):\n",
    "    new_name = \"Score(\" + name + \"): %.2f RMSE\"\n",
    "    testScore = ma.sqrt(mean_squared_error(pred[:,0], Predict[:,0]))\n",
    "    return testScore\n",
    "\n",
    "###### ファイル保存 ######\n",
    "def save_file_at_dir(filename, new_path, mode='w'):\n",
    "    os.makedirs(new_path, exist_ok=True)\n",
    "    shutil.move(f'{filename}', f'./{new_path}')"
   ]
  },
  {
   "cell_type": "code",
   "execution_count": 4,
   "metadata": {},
   "outputs": [
    {
     "name": "stderr",
     "output_type": "stream",
     "text": [
      "C:\\Users\\Yu\\anaconda3\\lib\\site-packages\\keras\\optimizers\\optimizer_v2\\adam.py:110: UserWarning: The `lr` argument is deprecated, use `learning_rate` instead.\n",
      "  super(Adam, self).__init__(name, **kwargs)\n"
     ]
    },
    {
     "name": "stdout",
     "output_type": "stream",
     "text": [
      "1/1 [==============================] - 0s 269ms/step\n",
      "1/1 [==============================] - 0s 15ms/step\n",
      "1/1 [==============================] - 0s 14ms/step\n"
     ]
    },
    {
     "name": "stderr",
     "output_type": "stream",
     "text": [
      "<ipython-input-4-63e5f994ef02>:152: DeprecationWarning: setting an array element with a sequence. This was supported in some cases where the elements are arrays with a single element. For example `np.array([1, np.array([2])], dtype=int)`. In the future this will raise the same ValueError as `np.array([1, [2]], dtype=int)`.\n",
      "  PIcapt_np = np.array(PIcapt,dtype = 'float64')\n"
     ]
    },
    {
     "name": "stdout",
     "output_type": "stream",
     "text": [
      "1/1 [==============================] - 0s 15ms/step\n"
     ]
    },
    {
     "name": "stderr",
     "output_type": "stream",
     "text": [
      "<ipython-input-4-63e5f994ef02>:152: DeprecationWarning: setting an array element with a sequence. This was supported in some cases where the elements are arrays with a single element. For example `np.array([1, np.array([2])], dtype=int)`. In the future this will raise the same ValueError as `np.array([1, [2]], dtype=int)`.\n",
      "  PIcapt_np = np.array(PIcapt,dtype = 'float64')\n"
     ]
    },
    {
     "name": "stdout",
     "output_type": "stream",
     "text": [
      "1/1 [==============================] - 0s 14ms/step\n"
     ]
    },
    {
     "name": "stderr",
     "output_type": "stream",
     "text": [
      "<ipython-input-4-63e5f994ef02>:152: DeprecationWarning: setting an array element with a sequence. This was supported in some cases where the elements are arrays with a single element. For example `np.array([1, np.array([2])], dtype=int)`. In the future this will raise the same ValueError as `np.array([1, [2]], dtype=int)`.\n",
      "  PIcapt_np = np.array(PIcapt,dtype = 'float64')\n"
     ]
    },
    {
     "name": "stdout",
     "output_type": "stream",
     "text": [
      "1/1 [==============================] - 0s 13ms/step\n"
     ]
    },
    {
     "name": "stderr",
     "output_type": "stream",
     "text": [
      "<ipython-input-4-63e5f994ef02>:152: DeprecationWarning: setting an array element with a sequence. This was supported in some cases where the elements are arrays with a single element. For example `np.array([1, np.array([2])], dtype=int)`. In the future this will raise the same ValueError as `np.array([1, [2]], dtype=int)`.\n",
      "  PIcapt_np = np.array(PIcapt,dtype = 'float64')\n"
     ]
    },
    {
     "name": "stdout",
     "output_type": "stream",
     "text": [
      "1/1 [==============================] - 0s 14ms/step\n",
      "1/1 [==============================] - 0s 14ms/step\n"
     ]
    },
    {
     "name": "stderr",
     "output_type": "stream",
     "text": [
      "<ipython-input-4-63e5f994ef02>:152: DeprecationWarning: setting an array element with a sequence. This was supported in some cases where the elements are arrays with a single element. For example `np.array([1, np.array([2])], dtype=int)`. In the future this will raise the same ValueError as `np.array([1, [2]], dtype=int)`.\n",
      "  PIcapt_np = np.array(PIcapt,dtype = 'float64')\n"
     ]
    },
    {
     "name": "stdout",
     "output_type": "stream",
     "text": [
      "1/1 [==============================] - 0s 14ms/step\n"
     ]
    },
    {
     "name": "stderr",
     "output_type": "stream",
     "text": [
      "<ipython-input-4-63e5f994ef02>:152: DeprecationWarning: setting an array element with a sequence. This was supported in some cases where the elements are arrays with a single element. For example `np.array([1, np.array([2])], dtype=int)`. In the future this will raise the same ValueError as `np.array([1, [2]], dtype=int)`.\n",
      "  PIcapt_np = np.array(PIcapt,dtype = 'float64')\n",
      "<ipython-input-4-63e5f994ef02>:152: DeprecationWarning: setting an array element with a sequence. This was supported in some cases where the elements are arrays with a single element. For example `np.array([1, np.array([2])], dtype=int)`. In the future this will raise the same ValueError as `np.array([1, [2]], dtype=int)`.\n",
      "  PIcapt_np = np.array(PIcapt,dtype = 'float64')\n"
     ]
    },
    {
     "name": "stdout",
     "output_type": "stream",
     "text": [
      "1/1 [==============================] - 0s 13ms/step\n"
     ]
    },
    {
     "name": "stderr",
     "output_type": "stream",
     "text": [
      "<ipython-input-4-63e5f994ef02>:152: DeprecationWarning: setting an array element with a sequence. This was supported in some cases where the elements are arrays with a single element. For example `np.array([1, np.array([2])], dtype=int)`. In the future this will raise the same ValueError as `np.array([1, [2]], dtype=int)`.\n",
      "  PIcapt_np = np.array(PIcapt,dtype = 'float64')\n"
     ]
    },
    {
     "name": "stdout",
     "output_type": "stream",
     "text": [
      "1/1 [==============================] - 0s 13ms/step\n"
     ]
    },
    {
     "name": "stderr",
     "output_type": "stream",
     "text": [
      "<ipython-input-4-63e5f994ef02>:152: DeprecationWarning: setting an array element with a sequence. This was supported in some cases where the elements are arrays with a single element. For example `np.array([1, np.array([2])], dtype=int)`. In the future this will raise the same ValueError as `np.array([1, [2]], dtype=int)`.\n",
      "  PIcapt_np = np.array(PIcapt,dtype = 'float64')\n"
     ]
    },
    {
     "name": "stdout",
     "output_type": "stream",
     "text": [
      "1/1 [==============================] - 0s 13ms/step\n",
      "1/1 [==============================] - 0s 13ms/step\n",
      "1/1 [==============================] - 0s 13ms/step\n"
     ]
    },
    {
     "name": "stderr",
     "output_type": "stream",
     "text": [
      "<ipython-input-4-63e5f994ef02>:152: DeprecationWarning: setting an array element with a sequence. This was supported in some cases where the elements are arrays with a single element. For example `np.array([1, np.array([2])], dtype=int)`. In the future this will raise the same ValueError as `np.array([1, [2]], dtype=int)`.\n",
      "  PIcapt_np = np.array(PIcapt,dtype = 'float64')\n",
      "<ipython-input-4-63e5f994ef02>:152: DeprecationWarning: setting an array element with a sequence. This was supported in some cases where the elements are arrays with a single element. For example `np.array([1, np.array([2])], dtype=int)`. In the future this will raise the same ValueError as `np.array([1, [2]], dtype=int)`.\n",
      "  PIcapt_np = np.array(PIcapt,dtype = 'float64')\n"
     ]
    },
    {
     "name": "stdout",
     "output_type": "stream",
     "text": [
      "1/1 [==============================] - 0s 14ms/step\n",
      "1/1 [==============================] - 0s 14ms/step\n"
     ]
    },
    {
     "name": "stderr",
     "output_type": "stream",
     "text": [
      "<ipython-input-4-63e5f994ef02>:152: DeprecationWarning: setting an array element with a sequence. This was supported in some cases where the elements are arrays with a single element. For example `np.array([1, np.array([2])], dtype=int)`. In the future this will raise the same ValueError as `np.array([1, [2]], dtype=int)`.\n",
      "  PIcapt_np = np.array(PIcapt,dtype = 'float64')\n",
      "<ipython-input-4-63e5f994ef02>:152: DeprecationWarning: setting an array element with a sequence. This was supported in some cases where the elements are arrays with a single element. For example `np.array([1, np.array([2])], dtype=int)`. In the future this will raise the same ValueError as `np.array([1, [2]], dtype=int)`.\n",
      "  PIcapt_np = np.array(PIcapt,dtype = 'float64')\n"
     ]
    },
    {
     "name": "stdout",
     "output_type": "stream",
     "text": [
      "1/1 [==============================] - 0s 14ms/step\n"
     ]
    },
    {
     "name": "stderr",
     "output_type": "stream",
     "text": [
      "<ipython-input-4-63e5f994ef02>:152: DeprecationWarning: setting an array element with a sequence. This was supported in some cases where the elements are arrays with a single element. For example `np.array([1, np.array([2])], dtype=int)`. In the future this will raise the same ValueError as `np.array([1, [2]], dtype=int)`.\n",
      "  PIcapt_np = np.array(PIcapt,dtype = 'float64')\n"
     ]
    },
    {
     "name": "stdout",
     "output_type": "stream",
     "text": [
      "1/1 [==============================] - 0s 14ms/step\n",
      "1/1 [==============================] - 0s 13ms/step\n"
     ]
    },
    {
     "name": "stderr",
     "output_type": "stream",
     "text": [
      "<ipython-input-4-63e5f994ef02>:152: DeprecationWarning: setting an array element with a sequence. This was supported in some cases where the elements are arrays with a single element. For example `np.array([1, np.array([2])], dtype=int)`. In the future this will raise the same ValueError as `np.array([1, [2]], dtype=int)`.\n",
      "  PIcapt_np = np.array(PIcapt,dtype = 'float64')\n",
      "<ipython-input-4-63e5f994ef02>:152: DeprecationWarning: setting an array element with a sequence. This was supported in some cases where the elements are arrays with a single element. For example `np.array([1, np.array([2])], dtype=int)`. In the future this will raise the same ValueError as `np.array([1, [2]], dtype=int)`.\n",
      "  PIcapt_np = np.array(PIcapt,dtype = 'float64')\n"
     ]
    },
    {
     "name": "stdout",
     "output_type": "stream",
     "text": [
      "1/1 [==============================] - 0s 14ms/step\n",
      "1/1 [==============================] - 0s 13ms/step\n"
     ]
    },
    {
     "name": "stderr",
     "output_type": "stream",
     "text": [
      "<ipython-input-4-63e5f994ef02>:152: DeprecationWarning: setting an array element with a sequence. This was supported in some cases where the elements are arrays with a single element. For example `np.array([1, np.array([2])], dtype=int)`. In the future this will raise the same ValueError as `np.array([1, [2]], dtype=int)`.\n",
      "  PIcapt_np = np.array(PIcapt,dtype = 'float64')\n"
     ]
    },
    {
     "name": "stdout",
     "output_type": "stream",
     "text": [
      "1/1 [==============================] - 0s 14ms/step\n"
     ]
    },
    {
     "name": "stderr",
     "output_type": "stream",
     "text": [
      "<ipython-input-4-63e5f994ef02>:152: DeprecationWarning: setting an array element with a sequence. This was supported in some cases where the elements are arrays with a single element. For example `np.array([1, np.array([2])], dtype=int)`. In the future this will raise the same ValueError as `np.array([1, [2]], dtype=int)`.\n",
      "  PIcapt_np = np.array(PIcapt,dtype = 'float64')\n",
      "<ipython-input-4-63e5f994ef02>:152: DeprecationWarning: setting an array element with a sequence. This was supported in some cases where the elements are arrays with a single element. For example `np.array([1, np.array([2])], dtype=int)`. In the future this will raise the same ValueError as `np.array([1, [2]], dtype=int)`.\n",
      "  PIcapt_np = np.array(PIcapt,dtype = 'float64')\n"
     ]
    },
    {
     "name": "stdout",
     "output_type": "stream",
     "text": [
      "1/1 [==============================] - 0s 14ms/step\n"
     ]
    },
    {
     "name": "stderr",
     "output_type": "stream",
     "text": [
      "<ipython-input-4-63e5f994ef02>:152: DeprecationWarning: setting an array element with a sequence. This was supported in some cases where the elements are arrays with a single element. For example `np.array([1, np.array([2])], dtype=int)`. In the future this will raise the same ValueError as `np.array([1, [2]], dtype=int)`.\n",
      "  PIcapt_np = np.array(PIcapt,dtype = 'float64')\n"
     ]
    },
    {
     "name": "stdout",
     "output_type": "stream",
     "text": [
      "1/1 [==============================] - 0s 13ms/step\n"
     ]
    },
    {
     "name": "stderr",
     "output_type": "stream",
     "text": [
      "<ipython-input-4-63e5f994ef02>:152: DeprecationWarning: setting an array element with a sequence. This was supported in some cases where the elements are arrays with a single element. For example `np.array([1, np.array([2])], dtype=int)`. In the future this will raise the same ValueError as `np.array([1, [2]], dtype=int)`.\n",
      "  PIcapt_np = np.array(PIcapt,dtype = 'float64')\n"
     ]
    },
    {
     "name": "stdout",
     "output_type": "stream",
     "text": [
      "1/1 [==============================] - 0s 13ms/step\n",
      "1/1 [==============================] - 0s 13ms/step\n",
      "1/1 [==============================] - 0s 15ms/step\n"
     ]
    },
    {
     "name": "stderr",
     "output_type": "stream",
     "text": [
      "<ipython-input-4-63e5f994ef02>:152: DeprecationWarning: setting an array element with a sequence. This was supported in some cases where the elements are arrays with a single element. For example `np.array([1, np.array([2])], dtype=int)`. In the future this will raise the same ValueError as `np.array([1, [2]], dtype=int)`.\n",
      "  PIcapt_np = np.array(PIcapt,dtype = 'float64')\n"
     ]
    },
    {
     "name": "stdout",
     "output_type": "stream",
     "text": [
      "1/1 [==============================] - 0s 13ms/step\n"
     ]
    },
    {
     "name": "stderr",
     "output_type": "stream",
     "text": [
      "<ipython-input-4-63e5f994ef02>:152: DeprecationWarning: setting an array element with a sequence. This was supported in some cases where the elements are arrays with a single element. For example `np.array([1, np.array([2])], dtype=int)`. In the future this will raise the same ValueError as `np.array([1, [2]], dtype=int)`.\n",
      "  PIcapt_np = np.array(PIcapt,dtype = 'float64')\n",
      "<ipython-input-4-63e5f994ef02>:152: DeprecationWarning: setting an array element with a sequence. This was supported in some cases where the elements are arrays with a single element. For example `np.array([1, np.array([2])], dtype=int)`. In the future this will raise the same ValueError as `np.array([1, [2]], dtype=int)`.\n",
      "  PIcapt_np = np.array(PIcapt,dtype = 'float64')\n"
     ]
    },
    {
     "name": "stdout",
     "output_type": "stream",
     "text": [
      "1/1 [==============================] - 0s 13ms/step\n"
     ]
    },
    {
     "name": "stderr",
     "output_type": "stream",
     "text": [
      "<ipython-input-4-63e5f994ef02>:152: DeprecationWarning: setting an array element with a sequence. This was supported in some cases where the elements are arrays with a single element. For example `np.array([1, np.array([2])], dtype=int)`. In the future this will raise the same ValueError as `np.array([1, [2]], dtype=int)`.\n",
      "  PIcapt_np = np.array(PIcapt,dtype = 'float64')\n"
     ]
    },
    {
     "name": "stdout",
     "output_type": "stream",
     "text": [
      "1/1 [==============================] - 0s 13ms/step\n"
     ]
    },
    {
     "name": "stderr",
     "output_type": "stream",
     "text": [
      "<ipython-input-4-63e5f994ef02>:152: DeprecationWarning: setting an array element with a sequence. This was supported in some cases where the elements are arrays with a single element. For example `np.array([1, np.array([2])], dtype=int)`. In the future this will raise the same ValueError as `np.array([1, [2]], dtype=int)`.\n",
      "  PIcapt_np = np.array(PIcapt,dtype = 'float64')\n"
     ]
    },
    {
     "name": "stdout",
     "output_type": "stream",
     "text": [
      "1/1 [==============================] - 0s 13ms/step\n",
      "1/1 [==============================] - 0s 14ms/step\n"
     ]
    },
    {
     "ename": "Error",
     "evalue": "Destination path './Mean20%\\PV_predict_err_Mean20.csv' already exists",
     "output_type": "error",
     "traceback": [
      "\u001b[1;31m---------------------------------------------------------------------------\u001b[0m",
      "\u001b[1;31mError\u001b[0m                                     Traceback (most recent call last)",
      "\u001b[1;32m<ipython-input-4-63e5f994ef02>\u001b[0m in \u001b[0;36m<module>\u001b[1;34m\u001b[0m\n\u001b[0;32m    195\u001b[0m         \u001b[0mall_eva_result_savename\u001b[0m \u001b[1;33m=\u001b[0m \u001b[1;34mf'PV_predict_err_{method[m]}{missing_rate[mr]}.csv'\u001b[0m\u001b[1;33m\u001b[0m\u001b[1;33m\u001b[0m\u001b[0m\n\u001b[0;32m    196\u001b[0m         \u001b[0mall_eva_result\u001b[0m\u001b[1;33m.\u001b[0m\u001b[0mto_csv\u001b[0m\u001b[1;33m(\u001b[0m\u001b[0mall_eva_result_savename\u001b[0m\u001b[1;33m)\u001b[0m\u001b[1;33m\u001b[0m\u001b[1;33m\u001b[0m\u001b[0m\n\u001b[1;32m--> 197\u001b[1;33m         \u001b[0msave_file_at_dir\u001b[0m\u001b[1;33m(\u001b[0m\u001b[0mall_eva_result_savename\u001b[0m\u001b[1;33m,\u001b[0m\u001b[0mpath_name\u001b[0m\u001b[1;33m)\u001b[0m\u001b[1;33m\u001b[0m\u001b[1;33m\u001b[0m\u001b[0m\n\u001b[0m\u001b[0;32m    198\u001b[0m         \u001b[0mall_eva_result\u001b[0m\u001b[1;33m.\u001b[0m\u001b[0mto_csv\u001b[0m\u001b[1;33m(\u001b[0m\u001b[0mall_eva_result_savename\u001b[0m\u001b[1;33m)\u001b[0m\u001b[1;33m\u001b[0m\u001b[1;33m\u001b[0m\u001b[0m\n\u001b[0;32m    199\u001b[0m \u001b[1;33m\u001b[0m\u001b[0m\n",
      "\u001b[1;32m<ipython-input-1-e4a49e6dcbef>\u001b[0m in \u001b[0;36msave_file_at_dir\u001b[1;34m(filename, new_path, mode)\u001b[0m\n\u001b[0;32m     47\u001b[0m \u001b[1;32mdef\u001b[0m \u001b[0msave_file_at_dir\u001b[0m\u001b[1;33m(\u001b[0m\u001b[0mfilename\u001b[0m\u001b[1;33m,\u001b[0m \u001b[0mnew_path\u001b[0m\u001b[1;33m,\u001b[0m \u001b[0mmode\u001b[0m\u001b[1;33m=\u001b[0m\u001b[1;34m'w'\u001b[0m\u001b[1;33m)\u001b[0m\u001b[1;33m:\u001b[0m\u001b[1;33m\u001b[0m\u001b[1;33m\u001b[0m\u001b[0m\n\u001b[0;32m     48\u001b[0m     \u001b[0mos\u001b[0m\u001b[1;33m.\u001b[0m\u001b[0mmakedirs\u001b[0m\u001b[1;33m(\u001b[0m\u001b[0mnew_path\u001b[0m\u001b[1;33m,\u001b[0m \u001b[0mexist_ok\u001b[0m\u001b[1;33m=\u001b[0m\u001b[1;32mTrue\u001b[0m\u001b[1;33m)\u001b[0m\u001b[1;33m\u001b[0m\u001b[1;33m\u001b[0m\u001b[0m\n\u001b[1;32m---> 49\u001b[1;33m     \u001b[0mshutil\u001b[0m\u001b[1;33m.\u001b[0m\u001b[0mmove\u001b[0m\u001b[1;33m(\u001b[0m\u001b[1;34mf'{filename}'\u001b[0m\u001b[1;33m,\u001b[0m \u001b[1;34mf'./{new_path}'\u001b[0m\u001b[1;33m)\u001b[0m\u001b[1;33m\u001b[0m\u001b[1;33m\u001b[0m\u001b[0m\n\u001b[0m",
      "\u001b[1;32m~\\anaconda3\\lib\\shutil.py\u001b[0m in \u001b[0;36mmove\u001b[1;34m(src, dst, copy_function)\u001b[0m\n\u001b[0;32m    784\u001b[0m         \u001b[0mreal_dst\u001b[0m \u001b[1;33m=\u001b[0m \u001b[0mos\u001b[0m\u001b[1;33m.\u001b[0m\u001b[0mpath\u001b[0m\u001b[1;33m.\u001b[0m\u001b[0mjoin\u001b[0m\u001b[1;33m(\u001b[0m\u001b[0mdst\u001b[0m\u001b[1;33m,\u001b[0m \u001b[0m_basename\u001b[0m\u001b[1;33m(\u001b[0m\u001b[0msrc\u001b[0m\u001b[1;33m)\u001b[0m\u001b[1;33m)\u001b[0m\u001b[1;33m\u001b[0m\u001b[1;33m\u001b[0m\u001b[0m\n\u001b[0;32m    785\u001b[0m         \u001b[1;32mif\u001b[0m \u001b[0mos\u001b[0m\u001b[1;33m.\u001b[0m\u001b[0mpath\u001b[0m\u001b[1;33m.\u001b[0m\u001b[0mexists\u001b[0m\u001b[1;33m(\u001b[0m\u001b[0mreal_dst\u001b[0m\u001b[1;33m)\u001b[0m\u001b[1;33m:\u001b[0m\u001b[1;33m\u001b[0m\u001b[1;33m\u001b[0m\u001b[0m\n\u001b[1;32m--> 786\u001b[1;33m             \u001b[1;32mraise\u001b[0m \u001b[0mError\u001b[0m\u001b[1;33m(\u001b[0m\u001b[1;34m\"Destination path '%s' already exists\"\u001b[0m \u001b[1;33m%\u001b[0m \u001b[0mreal_dst\u001b[0m\u001b[1;33m)\u001b[0m\u001b[1;33m\u001b[0m\u001b[1;33m\u001b[0m\u001b[0m\n\u001b[0m\u001b[0;32m    787\u001b[0m     \u001b[1;32mtry\u001b[0m\u001b[1;33m:\u001b[0m\u001b[1;33m\u001b[0m\u001b[1;33m\u001b[0m\u001b[0m\n\u001b[0;32m    788\u001b[0m         \u001b[0mos\u001b[0m\u001b[1;33m.\u001b[0m\u001b[0mrename\u001b[0m\u001b[1;33m(\u001b[0m\u001b[0msrc\u001b[0m\u001b[1;33m,\u001b[0m \u001b[0mreal_dst\u001b[0m\u001b[1;33m)\u001b[0m\u001b[1;33m\u001b[0m\u001b[1;33m\u001b[0m\u001b[0m\n",
      "\u001b[1;31mError\u001b[0m: Destination path './Mean20%\\PV_predict_err_Mean20.csv' already exists"
     ]
    }
   ],
   "source": [
    "############################## データを読み込む & 学習・テストデータに分割する #################################\n",
    "        \n",
    "for mr in range(4):\n",
    "    for m in range (4):\n",
    "        ###### 欠損率・補完手法を指定し、データセットを読み込む\n",
    "        method = ['Mean','KNN','RF','XGB']\n",
    "        missing_rate = ['20','40','60','80']\n",
    "        path_name = f\"{method[m]}{missing_rate[mr]}%\"\n",
    "        PV_data = pd.read_csv(f\"MCAR{missing_rate[mr]}%_{method[m]}.csv\")\n",
    "\n",
    "        ###### 読み込んだデータに月、時刻の三角関数成分を加える\n",
    "        sin_month = np.sin(PV_data[\"month\"]/6*(ma.pi))\n",
    "        cos_month = np.sin(PV_data[\"month\"]/6*(ma.pi))\n",
    "        sin_hour = np.sin(PV_data[\"hour\"]/12*(ma.pi)) \n",
    "        cos_hour = np.cos(PV_data[\"hour\"]/12*(ma.pi)) \n",
    "        time_data = pd.concat([sin_month,cos_month,sin_hour,cos_hour], axis=1) \n",
    "        name = [\"sin_month\",\"cos_month\",\"sin_hour\", \"cos_hour\"] \n",
    "        time_data.columns = name         \n",
    "        PV_data = pd.concat([PV_data, time_data], axis=1) \n",
    "\n",
    "        ###### 学習データ・テストデータ・予測データの日数を指定\n",
    "        train_days = 255 \n",
    "        test_days = 31 \n",
    "        pred_days = 31\n",
    "        time_stamps = PV_data[\"hour\"]\n",
    "        time_stamp = time_stamps[:48]\n",
    "        row = len(PV_data) \n",
    "        col = len(PV_data.columns)\n",
    "\n",
    "        ###### 具体的な学習データ・テストデータの日を指定\n",
    "        train = PV_data[:48*train_days] \n",
    "        test = PV_data[48*train_days:48*(train_days + test_days)] \n",
    "\n",
    "        X_train = train[[\"sin_month\",\"cos_month\",\"sin_hour\", \"cos_hour\",\"humidity\",\"temp\", \"cloudcover\", \"rain\"]] \n",
    "        y_train = train[\"generation\"] \n",
    "\n",
    "        X_test = test[[\"sin_month\",\"cos_month\",\"sin_hour\", \"cos_hour\",\"humidity\",\"temp\", \"cloudcover\", \"rain\"]] \n",
    "        y_test = test[\"generation\"] \n",
    "        \n",
    "        X_train = (X_train.values)\n",
    "        y_train = (y_train.values)\n",
    "        X_test = (X_test.values)\n",
    "        y_test = (y_test.values) \n",
    "\n",
    "        X_train = X_train.reshape((train_days,48, 8)) # 3次元に変換\n",
    "        y_train = y_train.reshape((train_days,48, 1)) # 3次元に変換\n",
    "        X_test = X_test.reshape((test_days,48, 8)) # 3次元に変換\n",
    "        y_test = y_test.reshape((test_days,48, 1)) # 3次元に変換\n",
    "        \n",
    "########################################### RNNの構築と学習 #################################################  \n",
    "        ###### モデルの構築 \n",
    "        input_dim = 8 # 入力データの要素数\n",
    "        output_dim = 1 # 出力データ数\n",
    "        NN_hidden_units_1 = 30 # 隠れ層（第一層）のユニット数\n",
    "        NN_hidden_units = 20 # 隠れ層（第二層）のユニット数\n",
    "        len_sequence = 48 # 時系列の長さ\n",
    "        batch_size = 128 # ミニパッチサイズ\n",
    "        num_of_training_epochs = 300\n",
    "        learning_rate = 0.01 # 学習率\n",
    "\n",
    "        NN_model = Sequential()\n",
    "        NN_model.add(SimpleRNN(NN_hidden_units_1, input_shape=(len_sequence, input_dim), activation = \"relu\", return_sequences=True)) # 1層目\n",
    "        NN_model.add(SimpleRNN(NN_hidden_units, input_shape=(len_sequence, input_dim), activation = \"relu\", return_sequences=True)) # 2層目\n",
    "        NN_model.add(SimpleRNN(NN_hidden_units, input_shape=(len_sequence, input_dim), activation = \"relu\", return_sequences=True)) # 3層目\n",
    "        NN_model.add(SimpleRNN(NN_hidden_units, input_shape=(len_sequence, input_dim), activation = \"relu\", return_sequences=True)) # 4層目\n",
    "        NN_model.add(Dense(output_dim))\n",
    "        NN_model.compile(optimizer=Adam(lr=learning_rate), loss=\"mean_squared_error\")\n",
    "\n",
    "        ###### 学習 ######\n",
    "        NN_model.fit(X_train, y_train, batch_size=batch_size, epochs=num_of_training_epochs, validation_split=0.1, verbose=0)\n",
    "\n",
    "#################################### テストデータの予測と予測誤差の算出 #######################################\n",
    "        ###### テストデータの予測\n",
    "        testPredict_NN = NN_model.predict(X_test)\n",
    "        \n",
    "        ###### \"テストデータの予測\"から予測誤差を求める\n",
    "        for day in range(0,test_days): # データを日ごとに分ける\n",
    "            day_NN = testPredict_NN[day:(day + 1)]\n",
    "            day_target = y_test[day:(day + 1)]\n",
    "            err_day = (day_target - day_NN ) # 予測誤差の算出\n",
    "            err_day = np.reshape(err_day, (48,1)) # 3次元から2次元に変換\n",
    "            err_day = pd.DataFrame(err_day) \n",
    "            if day == 0:\n",
    "                err = err_day\n",
    "            elif day != 0:\n",
    "                err = pd.concat([err,err_day], axis=1) # 30日分の誤差をまとめる(48×30)\n",
    "                \n",
    "####################################### 予測データの予測・結果の保存 #########################################\n",
    "        ###### 具体的な予測データの日を指定する\n",
    "        for days in range(0,pred_days):\n",
    "            pred_data = PV_data[48*(train_days + test_days + days):48*(train_days + test_days + days + 1)] # 予測データ\n",
    "            \n",
    "            ###### 予測入力データ(X_pred)と正解データ(y_true)を用意する\n",
    "            X_pred = pred_data[[\"sin_month\",\"cos_month\",\"sin_hour\", \"cos_hour\",\"humidity\",\"temp\", \"cloudcover\", \"rain\"]]\n",
    "            y_true = pred_data[\"generation\"] \n",
    "            X_pred = X_pred.values.reshape((1, 48 ,8)) #型変換し三次元に変換\n",
    "            #y_true = y_true.values\n",
    "            y_true = y_true.values.reshape((1, 48, 1)) #型変換し三次元に変換\n",
    "            \n",
    "            #time_data = pred_data[[\"year\",\"month\",\"day\",\"hour\"]].reset_index(drop=True)\n",
    "            #true_data = pred_data[\"generation\"].reset_index(drop=True)\n",
    "\n",
    "            ###### 予測データの予測 \n",
    "            predPredict_NN = NN_model.predict(X_pred)\n",
    "            predPredict_NN = np.reshape(predPredict_NN, (48,1)) # 3次元から2次元に変換\n",
    "\n",
    "            ###### テストデータから得た\"各時刻における予測誤差\"と予測データから得た\"予測発電出力\" \n",
    "            ###### から各時刻における予測発電出力の上限値・予測下限値・Prediction Intervalを求める \n",
    "            for time in range(0,48):\n",
    "                time_err = err.iloc[time] # 時刻別にデータを抽出\n",
    "                time_err = sorted(time_err) # 昇順に並び替え\n",
    "                time_err = pd.DataFrame(time_err).T\n",
    "                time_err_low = time_err[round(pred_days*(1-0.95))] # ある時刻の予測誤差の下限値\n",
    "                time_err_up = time_err[round(pred_days*0.95)] # ある時刻の予測誤差の上限値\n",
    "                lower = predPredict_NN[time] + time_err_low # 予測発電出力の下限値\n",
    "                upper = predPredict_NN[time] + time_err_up # 予測発電出力の上限値\n",
    "                preint = upper - lower\n",
    "                lower = pd.DataFrame(lower)\n",
    "                upper = pd.DataFrame(upper)\n",
    "                preint = pd.DataFrame(preint)\n",
    "                if time == 0:\n",
    "                    Lower = lower\n",
    "                    Upper = upper\n",
    "                    PreInt = preint\n",
    "                elif time != 0:\n",
    "                    Lower = pd.concat([Lower,lower], axis=1)\n",
    "                    Upper = pd.concat([Upper,upper], axis=1)\n",
    "                    PreInt = pd.concat([PreInt,preint], axis=1)\n",
    "\n",
    "            Lower = (Lower.T).values\n",
    "            Upper = (Upper.T).values\n",
    "            PreInt = (PreInt.T).values\n",
    "\n",
    "            ###### 予測日のグラフの表示\n",
    "            y_true = np.reshape(y_true,(48, 1))\n",
    "            pdfname = 'PV_result-'+str(days)+'.pdf'\n",
    "            pp = PdfPages(pdfname) # PDFの作成\n",
    "            graph_NN = graph(time_stamp, predPredict_NN, y_true, Lower, Upper, \"NN\", 3) # NN\n",
    "            pp.savefig(graph_NN)\n",
    "            pp.close()\n",
    "\n",
    "            ###### 予測日のRMSE\n",
    "            daytime_y_true = y_true[13:36]\n",
    "            daytime_y_pred = predPredict_NN[13:36]\n",
    "            NN_RMSE = RMSE(daytime_y_true,daytime_y_pred, \"NN\") # NN\n",
    "            \n",
    "            ###### 予測日のMPIWcapt,Cover Rate\n",
    "            count = 0\n",
    "            PIcapt = []\n",
    "            for i in range(13,36):\n",
    "                if Lower[i] <= y_true[i] <= Upper[i]:\n",
    "                    PIcapt.append(PreInt[i])\n",
    "                    count = count + 1\n",
    "                else:\n",
    "                    PIcapt.append(0)\n",
    "            PI_cover_rate = count/23*100\n",
    "            PIcapt_np = np.array(PIcapt,dtype = 'float64')\n",
    "            PIcaptave = np.sum(PIcapt_np)/count\n",
    "\n",
    "            ###### 予測日のLoss\n",
    "            param = 496.0807 #Lossのハイパーパラメータ\n",
    "            target_cover_rate = 95 #Cover Rateの目標値[%]\n",
    "            if PI_cover_rate < target_cover_rate:\n",
    "                Loss = PIcaptave + param * (((target_cover_rate - PI_cover_rate)/100) ** 2)\n",
    "            else:\n",
    "                Loss = PIcaptave\n",
    "\n",
    "            ###### 結果の保存\n",
    "            time_data = pred_data[[\"year\",\"month\",\"day\",\"hour\"]].reset_index(drop=True)\n",
    "            true_data = pred_data[\"generation\"].reset_index(drop=True)\n",
    "            predPredict_NN = pd.DataFrame(predPredict_NN)\n",
    "            Lower = pd.DataFrame(Lower).reset_index(drop=True)\n",
    "            Upper = pd.DataFrame(Upper).reset_index(drop=True)\n",
    "            PreInt = pd.DataFrame(PreInt).reset_index(drop=True)\n",
    "            result = pd.concat([time_data,true_data,predPredict_NN,Lower,Upper,PreInt],axis=1)\n",
    "\n",
    "            time_data = time_data.astype('float64')\n",
    "            eva_result = []\n",
    "            eva_result.append(NN_RMSE)\n",
    "            eva_result.append(PI_cover_rate)\n",
    "            eva_result.append(PIcaptave)\n",
    "            eva_result.append(Loss)\n",
    "\n",
    "            if days == 0:\n",
    "                all_result = result\n",
    "                all_eva_result = eva_result\n",
    "            elif days != 0:\n",
    "                all_result = pd.concat([all_result,result], axis=0)\n",
    "                all_eva_result = np.vstack((all_eva_result,eva_result))\n",
    "\n",
    "        all_eva_result = pd.DataFrame(all_eva_result)\n",
    "\n",
    "        err_name = [\"NN_RMSE\",\"PI_cover_rate\",\"PIcapt\",\"Loss\"] # 列名\n",
    "        label_name = [\"year\",\"month\",\"day\",\"hour\",\"PVout(true)\",\"Forecast\",\"Lower\",\"Upper\",\"PreInt\"] # 列名\n",
    "\n",
    "        all_eva_result.columns = err_name # 列名付与\n",
    "        all_eva_result_savename = f'PV_predict_err_{method[m]}{missing_rate[mr]}.csv'\n",
    "        all_eva_result.to_csv(all_eva_result_savename)\n",
    "        save_file_at_dir(all_eva_result_savename,path_name)\n",
    "        #all_eva_result.to_csv(all_eva_result_savename)\n",
    "\n",
    "        all_result.columns = label_name # 列名付与\n",
    "        all_result_savename = f'PV_predict_result_{method[m]}{missing_rate[mr]}.csv'\n",
    "        all_result.to_csv(all_result_savename)\n",
    "        #save_file_at_dir(all_result_savename,path_name)\n",
    "\n",
    "        ###### pdfをまとめてフォルダに移動\n",
    "        for days in range(31):\n",
    "            pdfname = 'PV_result-'+str(days)+'.pdf'\n",
    "            save_file_at_dir(pdfname,path_name)"
   ]
  }
 ],
 "metadata": {
  "kernelspec": {
   "display_name": "Python 3",
   "language": "python",
   "name": "python3"
  },
  "language_info": {
   "codemirror_mode": {
    "name": "ipython",
    "version": 3
   },
   "file_extension": ".py",
   "mimetype": "text/x-python",
   "name": "python",
   "nbconvert_exporter": "python",
   "pygments_lexer": "ipython3",
   "version": "3.8.5"
  }
 },
 "nbformat": 4,
 "nbformat_minor": 4
}
